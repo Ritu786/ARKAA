{
 "cells": [
  {
   "cell_type": "code",
   "execution_count": 1,
   "id": "a29293de-6373-43a0-84cc-eb619d39b783",
   "metadata": {},
   "outputs": [],
   "source": [
    "qa = \"[\\n    {\\n        \\\"question\\\": \\\"What is the legal type of Salalah Villas Company SPC?\\\",\\n        \\\"answer\\\": \\\"Salalah Villas Company SPC is a Sole Proprietor Company.\\\"\\n    },\\n    {\\n        \\\"question\\\": \\\"Who is the authorized manager from India for Salalah Villas Company SPC?\\\",\\n        \\\"answer\\\": \\\"The authorized manager from India is Deepak Satish Kumar Pangasa.\\\"\\n    },\\n    {\\n        \\\"question\\\": \\\"What is the fiscal year-end date for Salalah Villas Company SPC?\\\",\\n        \\\"answer\\\": \\\"The fiscal year-end date for Salalah Villas Company SPC is December 31st.\\\"\\n    },\\n    {\\n        \\\"question\\\": \\\"What is the total share capital of Salalah Villas Company SPC?\\\",\\n        \\\"answer\\\": \\\"The total share capital of Salalah Villas Company SPC is 150,000 OMR.\\\"\\n    },\\n    {\\n        \\\"question\\\": \\\"Who is the sole partner of Salalah Villas Company SPC?\\\",\\n        \\\"answer\\\": \\\"The sole partner of Salalah Villas Company SPC is Oman Tourism Development Company SAOC.\\\"\\n    }\\n]\""
   ]
  },
  {
   "cell_type": "code",
   "execution_count": 2,
   "id": "fca392ea-1d35-4071-80bb-2125ccf55a23",
   "metadata": {},
   "outputs": [],
   "source": [
    "import json\n",
    "from fastapi import HTTPException\n",
    "\n",
    "def clean_and_parse_questions(raw_questions: str):\n",
    "    try:\n",
    "        return json.loads(raw_questions)\n",
    "    except json.JSONDecodeError:\n",
    "        raise HTTPException(status_code=400, detail='Inavlid JSON format in questions')"
   ]
  },
  {
   "cell_type": "code",
   "execution_count": 3,
   "id": "602e6a67-9fd1-458e-9d5a-3ef9b49eaa35",
   "metadata": {},
   "outputs": [],
   "source": [
    "parsed_questions = clean_and_parse_questions(qa)"
   ]
  },
  {
   "cell_type": "code",
   "execution_count": 4,
   "id": "5aa5ce00-3bcc-4753-b627-66f9474809d3",
   "metadata": {},
   "outputs": [
    {
     "data": {
      "text/plain": [
       "[{'question': 'What is the legal type of Salalah Villas Company SPC?',\n",
       "  'answer': 'Salalah Villas Company SPC is a Sole Proprietor Company.'},\n",
       " {'question': 'Who is the authorized manager from India for Salalah Villas Company SPC?',\n",
       "  'answer': 'The authorized manager from India is Deepak Satish Kumar Pangasa.'},\n",
       " {'question': 'What is the fiscal year-end date for Salalah Villas Company SPC?',\n",
       "  'answer': 'The fiscal year-end date for Salalah Villas Company SPC is December 31st.'},\n",
       " {'question': 'What is the total share capital of Salalah Villas Company SPC?',\n",
       "  'answer': 'The total share capital of Salalah Villas Company SPC is 150,000 OMR.'},\n",
       " {'question': 'Who is the sole partner of Salalah Villas Company SPC?',\n",
       "  'answer': 'The sole partner of Salalah Villas Company SPC is Oman Tourism Development Company SAOC.'}]"
      ]
     },
     "execution_count": 4,
     "metadata": {},
     "output_type": "execute_result"
    }
   ],
   "source": [
    "parsed_questions"
   ]
  },
  {
   "cell_type": "code",
   "execution_count": null,
   "id": "550bf92d-d3cd-41de-9047-d4dbd8a90a28",
   "metadata": {},
   "outputs": [],
   "source": []
  }
 ],
 "metadata": {
  "kernelspec": {
   "display_name": "Python 3 (ipykernel)",
   "language": "python",
   "name": "python3"
  },
  "language_info": {
   "codemirror_mode": {
    "name": "ipython",
    "version": 3
   },
   "file_extension": ".py",
   "mimetype": "text/x-python",
   "name": "python",
   "nbconvert_exporter": "python",
   "pygments_lexer": "ipython3",
   "version": "3.11.7"
  }
 },
 "nbformat": 4,
 "nbformat_minor": 5
}
